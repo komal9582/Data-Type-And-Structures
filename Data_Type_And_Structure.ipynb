{
  "nbformat": 4,
  "nbformat_minor": 0,
  "metadata": {
    "colab": {
      "provenance": []
    },
    "kernelspec": {
      "name": "python3",
      "display_name": "Python 3"
    },
    "language_info": {
      "name": "python"
    }
  },
  "cells": [
    {
      "cell_type": "markdown",
      "source": [
        "# Data Structure"
      ],
      "metadata": {
        "id": "yFKzu7CfGWBX"
      }
    },
    {
      "cell_type": "markdown",
      "source": [
        "#Theory Questions"
      ],
      "metadata": {
        "id": "ZAxvdfguOfZS"
      }
    },
    {
      "cell_type": "markdown",
      "source": [
        "# 1. What are data structures, and why are they important?\n",
        "   > Data Structures of oraganizing and storing data so that it can be accessed and manipulated effeciently.Effciency, easy to access, better problem solving, scalability and code clarity."
      ],
      "metadata": {
        "id": "1yZTe38TGjpQ"
      }
    },
    {
      "cell_type": "markdown",
      "source": [
        "# 2. Explain the difference between mutable and immutable data types with examples.\n",
        "   >. Mutable data types is that where we can change or arrange the data. Example: list, set, Bytearray.  \n",
        "   \n",
        "   >. Immutable data type is we can not change the change or arrage the data. Example: stringe, tuples.  "
      ],
      "metadata": {
        "id": "NPhCLq2UG4zT"
      }
    },
    {
      "cell_type": "markdown",
      "source": [
        "# 3. What are the main differences between lists and tuples in Python?\n",
        "   > . A list is mutable collection in python, written with square bracket[],  allowing the change like adding, removing, or modifying elements.\n",
        "\n",
        "   > . A tuples is an immutable, written with parentheses(), meaning its element cannot be change after creation, tuples are faster and use for fix data."
      ],
      "metadata": {
        "id": "pPja-pPxG5oo"
      }
    },
    {
      "cell_type": "markdown",
      "source": [
        "# 4. Describe how dictionaries store data.\n",
        "  > Dictionaries store data which store the data in the form of key value pair and the key are unique, value can be anything list, stringe, number etc."
      ],
      "metadata": {
        "id": "54KGm-JkG5_g"
      }
    },
    {
      "cell_type": "markdown",
      "source": [
        "# 5. Why might you use a set instead of a list in Python?\n",
        "   > Set and list both are mutable in python  so change can be possible we see set insted of list because set are unorder callection of unique elenemt, and repeated value get remove in set."
      ],
      "metadata": {
        "id": "vq0LIpyFHQWk"
      }
    },
    {
      "cell_type": "markdown",
      "source": [
        "# 6. What is a string in Python, and how is it different from a list?\n",
        "   > String is a variable in python, it print character value and it is a immutable where else list is a mutable."
      ],
      "metadata": {
        "id": "vE35zQHFHUIT"
      }
    },
    {
      "cell_type": "markdown",
      "source": [
        "# 7. How do tuples ensure data integrity in Python?\n",
        "   > Tuples is immutable it mean intergrity data will not change and provied a ensure the data integrity in python."
      ],
      "metadata": {
        "id": "8I0Jmvm6HdvX"
      }
    },
    {
      "cell_type": "markdown",
      "source": [
        "# 8. What is a hash table, and how does it relate to dictionaries in Python?\n",
        "   > A hash table store data using a key and a hash function for fast access. In python, dictionaries are using hash tables."
      ],
      "metadata": {
        "id": "B4UAIHEJH8-Z"
      }
    },
    {
      "cell_type": "markdown",
      "source": [
        "# 9. Can lists contain different data types in Python?\n",
        "   > Yes, a list can have different data types like numbers, string, and even other list together."
      ],
      "metadata": {
        "id": "Lfw9UVAmH_X6"
      }
    },
    {
      "cell_type": "markdown",
      "source": [
        "# 10. Explain why strings are immutable in Python.\n",
        "   > srings are immutable so that they are safe to use and cannot be changed by mistake, which also makes them faster in some operations."
      ],
      "metadata": {
        "id": "uIIx16s7IEsQ"
      }
    },
    {
      "cell_type": "markdown",
      "source": [
        "# 11. What advantages do dictionaries offer over lists for certain tasks?\n",
        "  > Dictionaries allow faster seachring by key, store data with labels (keys), and avoid through the whole list."
      ],
      "metadata": {
        "id": "a1XdSrweG7PV"
      }
    },
    {
      "cell_type": "markdown",
      "source": [
        "# 12. Describe a scenario where using a tuple would be preferable over a list.\n",
        "   > A tuble is btter when we need fixed data that should not change, like storing days of week or fixed coordinates."
      ],
      "metadata": {
        "id": "WJ8ExqMFIT6J"
      }
    },
    {
      "cell_type": "markdown",
      "source": [
        "# 13. How do sets handle duplicate values in Python?\n",
        "   > Sets automatically removes duplicate value and keep only unique elements."
      ],
      "metadata": {
        "id": "yRmBEv30IYgq"
      }
    },
    {
      "cell_type": "markdown",
      "source": [
        "# 14. How does the “in” keyword work differently for lists and dictionaries?\n",
        "  >.In a list, \"in\" checks if a value exists.\n",
        "   \n",
        "  >.In a dictonary, \"in\" checks if a key exixts, not the value."
      ],
      "metadata": {
        "id": "rRKTkT_tIeD1"
      }
    },
    {
      "cell_type": "markdown",
      "source": [
        "# 15.Can you modify the elements of a tuple? Explain why or why not.\n",
        "   >Np, we cannot modify a tuple because it is immutable, meaning it cannot be change after creation."
      ],
      "metadata": {
        "id": "1-9_Lt2nIiep"
      }
    },
    {
      "cell_type": "markdown",
      "source": [
        "# 16. What is a nested dictionary, and give an example of its use case?\n",
        "  > A nested dictionary is a dictionary inside another dictionary. It is useful for storing related data in a structured way, like studend details grouped bt ID."
      ],
      "metadata": {
        "id": "prcWmRQGIuLO"
      }
    },
    {
      "cell_type": "markdown",
      "source": [
        "# 17. Describe the time complexity of accessing elements in a dictionary.\n",
        "   > Accessing elements in a dictionary is generally o(1) time, meaning it is very fast because it uses hashing."
      ],
      "metadata": {
        "id": "A6j0kQDwI1dO"
      }
    },
    {
      "cell_type": "markdown",
      "source": [
        "# 18. In what situations are lists preferred over dictionaries?\n",
        "  > List are preferred when data is ordered, when we don't need key-based access, or when the data may have duplicates."
      ],
      "metadata": {
        "id": "hdSvC-_NI2iK"
      }
    },
    {
      "cell_type": "markdown",
      "source": [
        "# 19. Why are dictionaries considered unordered, and how does that affect data retrieval?\n",
        "   > Dictionaries are unordered because their elements are not stored in a fixed sequence. This means we cannot access items by position like in a list; we must use key."
      ],
      "metadata": {
        "id": "qBlr9ylDI86J"
      }
    },
    {
      "cell_type": "markdown",
      "source": [
        "# 20.Explain the difference between a list and a dictionary in terms of data retrieval?\n",
        "   > .In a list, we get data by its position (index).\n",
        "\n",
        "   > .In a dictionary, we get data by its key, which is usaually faster."
      ],
      "metadata": {
        "id": "WasL717zJCxF"
      }
    },
    {
      "cell_type": "markdown",
      "source": [
        "#Practical Questions"
      ],
      "metadata": {
        "id": "bVa0U7-TJLK3"
      }
    },
    {
      "cell_type": "markdown",
      "source": [
        "1. Write a code to create a string with your name and print it."
      ],
      "metadata": {
        "id": "X1ClumtnJSkK"
      }
    },
    {
      "cell_type": "code",
      "source": [
        "my_name = \"KOMAL\"\n",
        "print(my_name)"
      ],
      "metadata": {
        "id": "9xInimUiJhh8",
        "colab": {
          "base_uri": "https://localhost:8080/"
        },
        "outputId": "6f5542a4-7059-4be8-f0c3-4798b258d1eb"
      },
      "execution_count": null,
      "outputs": [
        {
          "output_type": "stream",
          "name": "stdout",
          "text": [
            "KOMAL\n"
          ]
        }
      ]
    },
    {
      "cell_type": "markdown",
      "source": [
        "2. Write a code to find the length of the string \"Hello World\"."
      ],
      "metadata": {
        "id": "0u8SGdsCJiSm"
      }
    },
    {
      "cell_type": "code",
      "source": [
        "str = \"Hello World\"\n",
        "print(len(str))"
      ],
      "metadata": {
        "id": "0yO12ZRUJqHD",
        "colab": {
          "base_uri": "https://localhost:8080/"
        },
        "outputId": "a413fd33-6700-4099-a87b-5a5fe745e163"
      },
      "execution_count": null,
      "outputs": [
        {
          "output_type": "stream",
          "name": "stdout",
          "text": [
            "11\n"
          ]
        }
      ]
    },
    {
      "cell_type": "markdown",
      "source": [
        "3. Write a code to slice the first 3 characters from the string \"Python Programming\"."
      ],
      "metadata": {
        "id": "dn8zM_9aJqih"
      }
    },
    {
      "cell_type": "code",
      "source": [
        "# first 3 characters\n",
        "text = \"Python Programming\"\n",
        "first_three = text[:3]\n",
        "print(\"first 3 characters:\", first_three)"
      ],
      "metadata": {
        "id": "JLz3CO_IJz24",
        "colab": {
          "base_uri": "https://localhost:8080/"
        },
        "outputId": "0ade2584-9e7d-47a3-f2f8-04f10303235a"
      },
      "execution_count": 56,
      "outputs": [
        {
          "output_type": "stream",
          "name": "stdout",
          "text": [
            "first 3 characters: Pyt\n"
          ]
        }
      ]
    },
    {
      "cell_type": "markdown",
      "source": [
        "4. Write a code to convert the string \"hello\" to uppercase."
      ],
      "metadata": {
        "id": "lNDvWsr1J0cn"
      }
    },
    {
      "cell_type": "code",
      "source": [
        "str = \"hello\"\n",
        "print(str.upper())"
      ],
      "metadata": {
        "id": "sxuk9NOBKFp_",
        "colab": {
          "base_uri": "https://localhost:8080/"
        },
        "outputId": "48c43b63-bd1a-4f19-e49e-9ebad4aa48f1"
      },
      "execution_count": null,
      "outputs": [
        {
          "output_type": "stream",
          "name": "stdout",
          "text": [
            "HELLO\n"
          ]
        }
      ]
    },
    {
      "cell_type": "markdown",
      "source": [
        "5. Write a code to replace the word \"apple\" with \"orange\" in the string \"I like apple\"."
      ],
      "metadata": {
        "id": "Rd8jDnxEKGJc"
      }
    },
    {
      "cell_type": "code",
      "source": [
        "# changing apple into orange.\n",
        "str = \"I like apple\"\n",
        "print(str.replace(\"apple\", \"orange\"))"
      ],
      "metadata": {
        "id": "hWuZXY1ZKK8O",
        "colab": {
          "base_uri": "https://localhost:8080/"
        },
        "outputId": "18d330ce-6eb2-4b42-96db-fdca919827cf"
      },
      "execution_count": null,
      "outputs": [
        {
          "output_type": "stream",
          "name": "stdout",
          "text": [
            "I like orange\n"
          ]
        }
      ]
    },
    {
      "cell_type": "markdown",
      "source": [
        "6. Write a code to create a list with numbers 1 to 5 and print it.\n"
      ],
      "metadata": {
        "id": "ADsM__XEKLU8"
      }
    },
    {
      "cell_type": "code",
      "source": [
        "# list with number 1 to 5.\n",
        "my_list = list(range(1, 6))\n",
        "print(my_list)"
      ],
      "metadata": {
        "id": "47gX5exmKSsr",
        "colab": {
          "base_uri": "https://localhost:8080/"
        },
        "outputId": "3fc863f0-6e3e-4797-c70e-a5fb5dffd958"
      },
      "execution_count": null,
      "outputs": [
        {
          "output_type": "stream",
          "name": "stdout",
          "text": [
            "[1, 2, 3, 4, 5]\n"
          ]
        }
      ]
    },
    {
      "cell_type": "markdown",
      "source": [
        "7. Write a code to append the number 10 to the list [1, 2, 3, 4]."
      ],
      "metadata": {
        "id": "mJhVbR8hKWt_"
      }
    },
    {
      "cell_type": "code",
      "source": [
        "# Append method into list form:\n",
        "\n",
        "my_list = [1,2,3,4]\n",
        "my_list.append(10)\n",
        "print(\"My_list:\", my_list)"
      ],
      "metadata": {
        "id": "JcBMiNO2KhBE",
        "colab": {
          "base_uri": "https://localhost:8080/"
        },
        "outputId": "79f4c2b9-53bd-4c3a-bac9-5bbca0d294a4"
      },
      "execution_count": null,
      "outputs": [
        {
          "output_type": "stream",
          "name": "stdout",
          "text": [
            "My_list: [1, 2, 3, 4, 10]\n"
          ]
        }
      ]
    },
    {
      "cell_type": "markdown",
      "source": [
        "8. Write a code to remove the number 3 from the list [1, 2, 3, 4, 5]."
      ],
      "metadata": {
        "id": "2FOdytkCKhW6"
      }
    },
    {
      "cell_type": "code",
      "source": [
        "# Remove number 3 from list:\n",
        "\n",
        "my_list = [1,2,3,4,5]\n",
        "my_list.remove(3)\n",
        "print(\"My list:\", my_list)"
      ],
      "metadata": {
        "id": "3srwTzjiKpFz",
        "colab": {
          "base_uri": "https://localhost:8080/"
        },
        "outputId": "301b3d0e-391d-43b3-b0d3-f0647e7f8abb"
      },
      "execution_count": null,
      "outputs": [
        {
          "output_type": "stream",
          "name": "stdout",
          "text": [
            "My list: [1, 2, 4, 5]\n"
          ]
        }
      ]
    },
    {
      "cell_type": "markdown",
      "source": [
        "9. Write a code to access the second element in the list ['a', 'b', 'c', 'd']."
      ],
      "metadata": {
        "id": "hjI8YzawKpno"
      }
    },
    {
      "cell_type": "code",
      "source": [
        "# Methoded of access element:\n",
        "\n",
        "my_list = ['a','b','c','d']\n",
        "print(my_list[2])\n"
      ],
      "metadata": {
        "id": "Q37O0RxwKvl1",
        "colab": {
          "base_uri": "https://localhost:8080/"
        },
        "outputId": "d3586223-b50b-4ba4-8a5d-810bbcf2fd4f"
      },
      "execution_count": null,
      "outputs": [
        {
          "output_type": "stream",
          "name": "stdout",
          "text": [
            "c\n"
          ]
        }
      ]
    },
    {
      "cell_type": "markdown",
      "source": [
        "10. Write a code to reverse the list [10, 20, 30, 40, 50]."
      ],
      "metadata": {
        "id": "OuVDORvjKwES"
      }
    },
    {
      "cell_type": "code",
      "source": [
        "#Reverse\n",
        "my_list = [10,20,30,40,50]\n",
        "my_list.reverse()\n",
        "print(\" My reverse list:\", my_list)"
      ],
      "metadata": {
        "id": "fWG5ac-DK1Q0",
        "colab": {
          "base_uri": "https://localhost:8080/"
        },
        "outputId": "7a70d25e-fcd4-4858-800d-4a46d08e5b50"
      },
      "execution_count": null,
      "outputs": [
        {
          "output_type": "stream",
          "name": "stdout",
          "text": [
            " My reverse list: [50, 40, 30, 20, 10]\n"
          ]
        }
      ]
    },
    {
      "cell_type": "markdown",
      "source": [
        "11. Write a code to create a tuple with the elements 100, 200, 300 and print it."
      ],
      "metadata": {
        "id": "pUcES1fDK1m7"
      }
    },
    {
      "cell_type": "code",
      "source": [
        "# Tuple\n",
        "\n",
        "tup = (100, 200, 300,)\n",
        "print(tup)"
      ],
      "metadata": {
        "id": "pUqugvtwK8D7",
        "colab": {
          "base_uri": "https://localhost:8080/"
        },
        "outputId": "56abedf6-11ca-4f87-c430-036355ad2cdb"
      },
      "execution_count": null,
      "outputs": [
        {
          "output_type": "stream",
          "name": "stdout",
          "text": [
            "(100, 200, 300)\n"
          ]
        }
      ]
    },
    {
      "cell_type": "markdown",
      "source": [
        "12. Write a code to access the second-to-last element of the tuple ('red', 'green', 'blue', 'yellow')."
      ],
      "metadata": {
        "id": "2wuFpKp0K8lY"
      }
    },
    {
      "cell_type": "code",
      "source": [
        "# Access second-last element:\n",
        "tup = ('red','green','blue','yellow')\n",
        "print(tup[-2])"
      ],
      "metadata": {
        "id": "syX0wjPKLA_9",
        "colab": {
          "base_uri": "https://localhost:8080/"
        },
        "outputId": "e01d920e-cc96-48f0-d447-8b9d6cfe085d"
      },
      "execution_count": null,
      "outputs": [
        {
          "output_type": "stream",
          "name": "stdout",
          "text": [
            "blue\n"
          ]
        }
      ]
    },
    {
      "cell_type": "markdown",
      "source": [
        "13. Write a code to find the minimum number in the tuple (10, 20, 5, 15)."
      ],
      "metadata": {
        "id": "oJc3O-npLBxa"
      }
    },
    {
      "cell_type": "code",
      "source": [
        "# finding the minimum number:\n",
        "\n",
        "num = (10,20,5,15)\n",
        "minimum_num = min(num)\n",
        "print(\"The minimum number is:\", minimum_num)"
      ],
      "metadata": {
        "id": "Bzs6_YwmLE7k",
        "colab": {
          "base_uri": "https://localhost:8080/"
        },
        "outputId": "cca3515d-b9af-4d90-8cc0-0ce1751c194b"
      },
      "execution_count": 3,
      "outputs": [
        {
          "output_type": "stream",
          "name": "stdout",
          "text": [
            "The minimum number is: 5\n"
          ]
        }
      ]
    },
    {
      "cell_type": "markdown",
      "source": [
        "14. Write a code to find the index of the element \"cat\" in the tuple ('dog', 'cat', 'rabbit')."
      ],
      "metadata": {
        "id": "ql8qwb00LFU0"
      }
    },
    {
      "cell_type": "code",
      "source": [
        "# Find the index:\n",
        "tup = ('dag','cat','rabbit')\n",
        "print(tup.index('cat'))"
      ],
      "metadata": {
        "id": "xgxQoDbMLJPX",
        "colab": {
          "base_uri": "https://localhost:8080/"
        },
        "outputId": "b52b41db-50e8-4a40-a480-2a00ddee9493"
      },
      "execution_count": null,
      "outputs": [
        {
          "output_type": "stream",
          "name": "stdout",
          "text": [
            "1\n"
          ]
        }
      ]
    },
    {
      "cell_type": "markdown",
      "source": [
        "15. Write a code to create a tuple containing three different fruits and check if \"kiwi\" is in it."
      ],
      "metadata": {
        "id": "-iNr9YbJLJoW"
      }
    },
    {
      "cell_type": "code",
      "source": [
        "# checking if kiwi in fruits list:\n",
        "\n",
        "fruits = (\"mango\",\"apple\",\"kiwi\")\n",
        "if \"kiwi\" in fruits:\n",
        "  print(\"kiwi is in list:\")\n",
        "else:\n",
        "  print(\"kiwi is not in list:\")"
      ],
      "metadata": {
        "id": "hkbRyUG6LNX9",
        "colab": {
          "base_uri": "https://localhost:8080/"
        },
        "outputId": "4425ef50-3781-428e-938c-b978e093f82d"
      },
      "execution_count": 5,
      "outputs": [
        {
          "output_type": "stream",
          "name": "stdout",
          "text": [
            "kiwi is in list:\n"
          ]
        }
      ]
    },
    {
      "cell_type": "markdown",
      "source": [
        "16. Write a code to create a set with the elements 'a', 'b', 'c' and print it."
      ],
      "metadata": {
        "id": "RGSxB5ssLRgW"
      }
    },
    {
      "cell_type": "code",
      "source": [
        "# Set method:\n",
        "\n",
        "set = {'a','b','c'}\n",
        "print(set)"
      ],
      "metadata": {
        "id": "STG3aFmMLWo-",
        "colab": {
          "base_uri": "https://localhost:8080/"
        },
        "outputId": "64f15768-7a95-4e03-f035-ffabfaaad903"
      },
      "execution_count": 6,
      "outputs": [
        {
          "output_type": "stream",
          "name": "stdout",
          "text": [
            "{'c', 'b', 'a'}\n"
          ]
        }
      ]
    },
    {
      "cell_type": "markdown",
      "source": [
        "17. Write a code to clear all elements from the set {1, 2, 3, 4, 5}."
      ],
      "metadata": {
        "id": "-bbn0leELXIL"
      }
    },
    {
      "cell_type": "code",
      "source": [
        "# clear all elements.\n",
        "\n",
        "set = {1,2,3,4,5}\n",
        "set.clear()\n",
        "print(\"Clear all elements:\", set)"
      ],
      "metadata": {
        "id": "WvMPTgsxLaSo",
        "colab": {
          "base_uri": "https://localhost:8080/"
        },
        "outputId": "f604a2fe-e6fd-443f-e59b-836e50632e00"
      },
      "execution_count": 15,
      "outputs": [
        {
          "output_type": "stream",
          "name": "stdout",
          "text": [
            "Clear all elements: set()\n"
          ]
        }
      ]
    },
    {
      "cell_type": "markdown",
      "source": [
        "18. Write a code to remove the element 4 from the set {1, 2, 3, 4}."
      ],
      "metadata": {
        "id": "z37nBxQnLa2R"
      }
    },
    {
      "cell_type": "code",
      "source": [
        "#remove the element:\n",
        "set = {1,2,3,4,}\n",
        "set.remove(4)\n",
        "print(\"Remove the element:\", set)"
      ],
      "metadata": {
        "id": "jPCsxWUBLgHs",
        "colab": {
          "base_uri": "https://localhost:8080/"
        },
        "outputId": "676116d6-cdce-4c1b-8b89-20593fd69200"
      },
      "execution_count": 13,
      "outputs": [
        {
          "output_type": "stream",
          "name": "stdout",
          "text": [
            "Remove the element: {1, 2, 3}\n"
          ]
        }
      ]
    },
    {
      "cell_type": "markdown",
      "source": [
        "19. Write a code to find the union of two sets {1, 2, 3} and {3, 4, 5}."
      ],
      "metadata": {
        "id": "4T4l1gXeLhdl"
      }
    },
    {
      "cell_type": "code",
      "source": [
        "# Union:\n",
        "set1 = {1,2,3}\n",
        "set2 = {3,4,5}\n",
        "print(\"finding the union:\", set1 | set2)"
      ],
      "metadata": {
        "id": "K7HA05S-LlLZ",
        "colab": {
          "base_uri": "https://localhost:8080/"
        },
        "outputId": "4777ba5d-3ed4-4876-fabe-a5e5e93cb20f"
      },
      "execution_count": 19,
      "outputs": [
        {
          "output_type": "stream",
          "name": "stdout",
          "text": [
            "finding the union: {1, 2, 3, 4, 5}\n"
          ]
        }
      ]
    },
    {
      "cell_type": "markdown",
      "source": [
        "20. Write a code to find the intersection of two sets {1, 2, 3} and {2, 3, 4}."
      ],
      "metadata": {
        "id": "Av9r7tYULliy"
      }
    },
    {
      "cell_type": "code",
      "source": [
        "# Intersection:\n",
        "\n",
        "set1 = {1,2,3}\n",
        "set2 = {2,3,4}\n",
        "print(\"Intersection:\", set1 & set2)"
      ],
      "metadata": {
        "id": "QlqO3vpPLqq7",
        "colab": {
          "base_uri": "https://localhost:8080/"
        },
        "outputId": "12d5f7c3-e768-4e8e-fe78-eb25d2d9ec3b"
      },
      "execution_count": 20,
      "outputs": [
        {
          "output_type": "stream",
          "name": "stdout",
          "text": [
            "Intersection: {2, 3}\n"
          ]
        }
      ]
    },
    {
      "cell_type": "markdown",
      "source": [
        "21. Write a code to create a dictionary with the keys \"name\", \"age\", and \"city\", and print it."
      ],
      "metadata": {
        "id": "a2rzVu_cLrJ4"
      }
    },
    {
      "cell_type": "code",
      "source": [
        "# Dictionary:\n",
        "dict = {\n",
        "    \"Name\": \"\",\n",
        "    \"Age\": \"\",\n",
        "    \"city\": \"\"\n",
        "}\n",
        "\n",
        "print(dict)"
      ],
      "metadata": {
        "id": "3VHhGQM0Luc5",
        "colab": {
          "base_uri": "https://localhost:8080/"
        },
        "outputId": "36665c13-c32f-492e-f278-48edfb07b879"
      },
      "execution_count": 22,
      "outputs": [
        {
          "output_type": "stream",
          "name": "stdout",
          "text": [
            "{'Name': '', 'Age': '', 'city': ''}\n"
          ]
        }
      ]
    },
    {
      "cell_type": "markdown",
      "source": [
        "22. Write a code to add a new key-value pair \"country\": \"USA\" to the dictionary {'name': 'John', 'age': 25}."
      ],
      "metadata": {
        "id": "oRC9VulyLu3L"
      }
    },
    {
      "cell_type": "code",
      "source": [
        "# key-value\n",
        "dict = {\n",
        "    \"name\": \"John\",\n",
        "    \"age\": 25\n",
        "}\n",
        "dict[\"country\"] = \"USA\"\n",
        "print(\"Adding new key value:\", dict)"
      ],
      "metadata": {
        "id": "zfxoFYfiLzGS",
        "colab": {
          "base_uri": "https://localhost:8080/"
        },
        "outputId": "4375dd62-7baf-4e18-96a0-e5550ab96dc9"
      },
      "execution_count": 25,
      "outputs": [
        {
          "output_type": "stream",
          "name": "stdout",
          "text": [
            "Adding new key value: {'name': 'John', 'age': 25, 'country': 'USA'}\n"
          ]
        }
      ]
    },
    {
      "cell_type": "markdown",
      "source": [
        "23. Write a code to access the value associated with the key \"name\" in the dictionary {'name': 'Alice', 'age': 30}."
      ],
      "metadata": {
        "id": "ndfq3cmbLzgT"
      }
    },
    {
      "cell_type": "code",
      "source": [
        "# key \"name\".\n",
        "person = {'name':'Alice','Age':30}\n",
        "value = person['name']\n",
        "print(value)"
      ],
      "metadata": {
        "id": "IR6CRCQ_L5Eh",
        "colab": {
          "base_uri": "https://localhost:8080/"
        },
        "outputId": "3c7ae9b2-389c-4cab-dc31-762b06177385"
      },
      "execution_count": 28,
      "outputs": [
        {
          "output_type": "stream",
          "name": "stdout",
          "text": [
            "Alice\n"
          ]
        }
      ]
    },
    {
      "cell_type": "markdown",
      "source": [
        "24. Write a code to remove the key \"age\" from the dictionary {'name': 'Bob', 'age': 22, 'city': 'New York'}."
      ],
      "metadata": {
        "id": "uLOcsGN6L5df"
      }
    },
    {
      "cell_type": "code",
      "source": [
        "# Removing key from dictionary:\n",
        "\n",
        "my_dict = {'name':'Bob','age':22,'city':'New york'}\n",
        "removed_value = my_dict.pop('age')\n",
        "print(\"Dictionary after removing key 'age':\", my_dict)"
      ],
      "metadata": {
        "id": "G_5o5mbPL_Dy",
        "colab": {
          "base_uri": "https://localhost:8080/"
        },
        "outputId": "cfb89de3-f283-433e-8c06-a242c76d95ca"
      },
      "execution_count": 36,
      "outputs": [
        {
          "output_type": "stream",
          "name": "stdout",
          "text": [
            "Dictionary after removing key 'age': {'name': 'Bob', 'city': 'New york'}\n"
          ]
        }
      ]
    },
    {
      "cell_type": "markdown",
      "source": [
        "25. Write a code to check if the key \"city\" exists in the dictionary {'name': 'Alice', 'city': 'Paris'}."
      ],
      "metadata": {
        "id": "rlGXZK-RL_m4"
      }
    },
    {
      "cell_type": "code",
      "source": [
        "#check if the key \"city\" exists:\n",
        "my_dict = {'name':'Alice','city':'Paris'}\n",
        "if 'city' in my_dict:\n",
        "  print(\"Key 'city' exists in the dictionary\")\n",
        "else:\n",
        "  print(\"Key doesn't exists in the dictionary\")"
      ],
      "metadata": {
        "id": "vtx7YkX6MDph",
        "colab": {
          "base_uri": "https://localhost:8080/"
        },
        "outputId": "3fe6ad4a-2df5-4328-ab8c-e91f08db5f68"
      },
      "execution_count": 37,
      "outputs": [
        {
          "output_type": "stream",
          "name": "stdout",
          "text": [
            "Key 'city' exists in the dictionary\n"
          ]
        }
      ]
    },
    {
      "cell_type": "markdown",
      "source": [
        "26. Write a code to create a list, a tuple, and a dictionary, and print them all."
      ],
      "metadata": {
        "id": "iSOG3QoFMF1Q"
      }
    },
    {
      "cell_type": "code",
      "source": [
        "#create a list\n",
        "my_list = [10,20,30,40,50]\n",
        "\n",
        "#create a tuple\n",
        "my_tup = (5,15,20)\n",
        "\n",
        "#create a dictionary\n",
        "my_dict = {'Name':'Komal','Age':21}\n",
        "\n",
        "print(\"List:\", my_list)\n",
        "print(\"Tuple:\", my_list)\n",
        "print(\"Dictionary:\", my_dict)"
      ],
      "metadata": {
        "id": "HmH2T23FMJby",
        "colab": {
          "base_uri": "https://localhost:8080/"
        },
        "outputId": "9c3e00b5-b114-418d-9dc2-da3f02322f9f"
      },
      "execution_count": 38,
      "outputs": [
        {
          "output_type": "stream",
          "name": "stdout",
          "text": [
            "List: [10, 20, 30, 40, 50]\n",
            "Tuple: [10, 20, 30, 40, 50]\n",
            "Dictionary: {'Name': 'Komal', 'Age': 21}\n"
          ]
        }
      ]
    },
    {
      "cell_type": "markdown",
      "source": [
        "27. Write a code to create a list of 5 random numbers between 1 and 100, sort it in ascending order, and print the\n",
        "result.(replaced)"
      ],
      "metadata": {
        "id": "x6ncQ9Z9MJ9E"
      }
    },
    {
      "cell_type": "code",
      "source": [
        "import random\n",
        "#create a list of five random number between 1 and 100.\n",
        "num = [random.randint(1,100) for _ in range(5)]\n",
        "\n",
        "#short the list in ascending order\n",
        "num.sort()\n",
        "\n",
        "#print the result\n",
        "print(\"Sorted number:\", num)"
      ],
      "metadata": {
        "id": "yNipR8IBMNQF",
        "colab": {
          "base_uri": "https://localhost:8080/"
        },
        "outputId": "201f4270-7e8e-41c5-a42e-959949515dd6"
      },
      "execution_count": 41,
      "outputs": [
        {
          "output_type": "stream",
          "name": "stdout",
          "text": [
            "Sorted number: [1, 22, 24, 36, 89]\n"
          ]
        }
      ]
    },
    {
      "cell_type": "markdown",
      "source": [
        "28. Write a code to create a list with strings and print the element at the third index."
      ],
      "metadata": {
        "id": "S2lFL-5_MOhi"
      }
    },
    {
      "cell_type": "code",
      "source": [
        "#create a list with strings\n",
        "name = [\"komal\",\"satvik\",\"megha\",\"uttam\",\"ritivik\"]\n",
        "\n",
        "#printing the element at thr thrid index.\n",
        "print(\"Element at the thrid index:\", name[3])\n"
      ],
      "metadata": {
        "id": "rYvGsAPmMV-u",
        "colab": {
          "base_uri": "https://localhost:8080/"
        },
        "outputId": "d9cd3419-1247-4286-d2c3-cbc0d1f71678"
      },
      "execution_count": 43,
      "outputs": [
        {
          "output_type": "stream",
          "name": "stdout",
          "text": [
            "Element at the thrid index: uttam\n"
          ]
        }
      ]
    },
    {
      "cell_type": "markdown",
      "source": [
        "29. Write a code to combine two dictionaries into one and print the result."
      ],
      "metadata": {
        "id": "_WFDsWLnMWX9"
      }
    },
    {
      "cell_type": "code",
      "source": [
        "# combine the two dictionary\n",
        "name1 = {\"komal\",\"satvik\",\"megha\",\"uttam\",\"ritivik\"}\n",
        "name2 = {\"uttam\",\"ritivik\",\"pooja\",\"anuj\"}\n",
        "print(\"combine the name1 and name2 dictionary:\", name1 | name2)"
      ],
      "metadata": {
        "id": "4odeHl9aMZuW",
        "colab": {
          "base_uri": "https://localhost:8080/"
        },
        "outputId": "2cdb2550-4957-4a64-e2ca-7206b4a72e95"
      },
      "execution_count": 44,
      "outputs": [
        {
          "output_type": "stream",
          "name": "stdout",
          "text": [
            "combine the name1 and name2 dictionary: {'uttam', 'komal', 'megha', 'pooja', 'ritivik', 'anuj', 'satvik'}\n"
          ]
        }
      ]
    },
    {
      "cell_type": "markdown",
      "source": [
        "30. Write a code to convert a list of strings into a set."
      ],
      "metadata": {
        "id": "qatcLhgiMaMR"
      }
    },
    {
      "cell_type": "code",
      "source": [
        "# creating a list of string.\n",
        "fruits_list = [\"apple\",\"banana\",\"cherry\",\"apple\",\"kiwi\"]\n",
        "\n",
        "# converting list to set:\n",
        "fruits_set = set(fruits_list)\n",
        "\n",
        "# printing the set\n",
        "print(\"Set:\", fruits_set) # it will throw the error because set object is not callable"
      ],
      "metadata": {
        "id": "INUHOQcMMfKx",
        "colab": {
          "base_uri": "https://localhost:8080/",
          "height": 211
        },
        "outputId": "b476ff01-5e30-41e8-fabe-11d14bc47272"
      },
      "execution_count": 55,
      "outputs": [
        {
          "output_type": "error",
          "ename": "TypeError",
          "evalue": "'set' object is not callable",
          "traceback": [
            "\u001b[0;31m---------------------------------------------------------------------------\u001b[0m",
            "\u001b[0;31mTypeError\u001b[0m                                 Traceback (most recent call last)",
            "\u001b[0;32m/tmp/ipython-input-1349226460.py\u001b[0m in \u001b[0;36m<cell line: 0>\u001b[0;34m()\u001b[0m\n\u001b[1;32m      3\u001b[0m \u001b[0;34m\u001b[0m\u001b[0m\n\u001b[1;32m      4\u001b[0m \u001b[0;31m# converting list to set:\u001b[0m\u001b[0;34m\u001b[0m\u001b[0;34m\u001b[0m\u001b[0m\n\u001b[0;32m----> 5\u001b[0;31m \u001b[0mfruits_set\u001b[0m \u001b[0;34m=\u001b[0m \u001b[0mset\u001b[0m\u001b[0;34m(\u001b[0m\u001b[0mfruits_list\u001b[0m\u001b[0;34m)\u001b[0m\u001b[0;34m\u001b[0m\u001b[0;34m\u001b[0m\u001b[0m\n\u001b[0m\u001b[1;32m      6\u001b[0m \u001b[0;34m\u001b[0m\u001b[0m\n\u001b[1;32m      7\u001b[0m \u001b[0;31m# printing the set\u001b[0m\u001b[0;34m\u001b[0m\u001b[0;34m\u001b[0m\u001b[0m\n",
            "\u001b[0;31mTypeError\u001b[0m: 'set' object is not callable"
          ]
        }
      ]
    }
  ]
}